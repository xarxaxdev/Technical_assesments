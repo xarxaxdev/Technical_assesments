{
 "cells": [
  {
   "cell_type": "markdown",
   "metadata": {},
   "source": [
    "# Glovo - Data Engineering Assessment\n",
    "\n",
    "\n",
    "Welcome to the Glovo Data Engineer assessment. This assessment should take at most a few hours to complete.\n",
    "\n",
    "When you are completed please download your notebook and send it to us. You can download it from the menu bar:\n",
    "\n",
    " ```File > Download as > Notebook```\n",
    "\n",
    "This assessment will cover Python 3, SQL (PostgreSQL), and a few logic questions.\n",
    "\n",
    "The Postgres database is pre-loaded with the tables as part of the Docker image, and it is publicly exposed so you can connect to it from your host computer if you wish (see the accompanying README.md file).\n",
    "\n",
    "**Remember to download your completed notebook before terminating the Docker instance**\n",
    "\n",
    "### What we value:\n",
    "\n",
    "At Glovo we're looking for:\n",
    "\n",
    "* A clean coding style\n",
    "\n",
    "* Efficient solutions to the problems given\n",
    "\n",
    "* Idiomatic use of Python\n",
    "\n",
    "* Appropriate use of Python's built-in functions and standard libraries\n",
    "\n",
    "\n",
    "## Python 3\n",
    "\n",
    "### Q1. Explain the difference between a set and a list in Python. Give one use case for each, considering the computational cost of various operations."
   ]
  },
  {
   "cell_type": "code",
   "execution_count": null,
   "metadata": {
    "collapsed": true
   },
   "outputs": [],
   "source": []
  },
  {
   "cell_type": "markdown",
   "metadata": {},
   "source": [
    "The list is more similar to a classic array(such as C++ vectors), where the set is based on the Mathematical concept of a Set. \n",
    "\n",
    "The list has a focus on being able to store a series of elements in a specific order, and accessing to these elements is very fast if we know their index. This makes them ideal when we want to access every element. In Python specifically, lists are also fast when appending elements to the end, but slow when we want to insert elements at the front as we have to move all the elements that are after the insertion. \n",
    "One use case would be processing a series of n elements, where the processing is individual and independent. We can simply iterate through the list and each access will be done in constant time; the cost of going over the list will be linear.\n",
    "\n",
    "\n",
    "The set has a focus on the basic operations defined for mathmatical sets: union, intersection, belonging, difference... This makes it ideal for cases where we precisely want to know the result of this operations and it is organized like a dictionary(hashmap) to check belonging faster, so we have no idea in which order the elements appear. An use case would be two groups of n elements and finding the common elements between the two groups. The way sets are organized, this would only take linear time on each set so the computational cost would be the sum of the size of both."
   ]
  },
  {
   "cell_type": "markdown",
   "metadata": {},
   "source": [
    "### Q2. Given the following list, count the number of each item, with the output in descending order - in a list of tuples"
   ]
  },
  {
   "cell_type": "code",
   "execution_count": 104,
   "metadata": {},
   "outputs": [
    {
     "name": "stdout",
     "output_type": "stream",
     "text": [
      "[('pear', 1), ('banana', 3), ('apple', 4)]\n"
     ]
    }
   ],
   "source": [
    "from collections import Counter\n",
    "\n",
    "list_to_count = ['apple', 'banana', 'apple', 'apple', 'pear', 'banana', 'apple', 'banana']\n",
    "\n",
    "### YOUR CODE HERE\n",
    "result = sorted(Counter(list_to_count).items(),reverse=True)\n",
    "print(result)\n"
   ]
  },
  {
   "cell_type": "markdown",
   "metadata": {},
   "source": [
    "### Q3.  Call the given function repeatedly to produce a list of 100 integers between 1 and 10 (inclusive). Ignore any exceptions and any values outside of this range (these do not count towards the 100 integers). Sum this list of 100 integers."
   ]
  },
  {
   "cell_type": "code",
   "execution_count": 105,
   "metadata": {},
   "outputs": [
    {
     "name": "stdout",
     "output_type": "stream",
     "text": [
      "559\n"
     ]
    }
   ],
   "source": [
    "import random\n",
    "\n",
    "\n",
    "def badRandomNumber():\n",
    "    x = random.randint(1, 15)\n",
    "    if x > 12:\n",
    "        raise ValueError\n",
    "    return x\n",
    "\n",
    "output = []\n",
    "random.seed(123)  # Do not edit the seed\n",
    "\n",
    "### YOUR CODE HERE\n",
    "number=100\n",
    "totalList=[None]*number #in this case the list is not needed and values \n",
    "while(number): #could be saved in a single variable\n",
    "    try:\n",
    "        x = badRandomNumber()\n",
    "        if x>10:\n",
    "            continue\n",
    "\n",
    "        number-=1\n",
    "        totalList[number]= x\n",
    "    except:\n",
    "        pass\n",
    "\n",
    "result = sum(totalList)\n",
    "print(result)\n",
    "\n"
   ]
  },
  {
   "cell_type": "markdown",
   "metadata": {},
   "source": [
    "### Q4. Use the requests module to extract a list of the page IDs from the following API request.\n",
    "\n"
   ]
  },
  {
   "cell_type": "code",
   "execution_count": 106,
   "metadata": {},
   "outputs": [
    {
     "name": "stdout",
     "output_type": "stream",
     "text": [
      "['674891', '21721040', '5249586']\n"
     ]
    }
   ],
   "source": [
    "import requests\n",
    "\n",
    "request_url = \"\"\"https://en.wikipedia.org/w/api.php?action=query&\\\n",
    "format=json&prop=extracts&titles=Stack%20Overflow%7CArch%20Linux%7cSuper%20Mario\\\n",
    "&utf8=1&exintro=1&exsectionformat=plain\"\"\"\n",
    "\n",
    "### YOUR CODE HERE\n",
    "page = requests.get(request_url)\n",
    "id_list = [p for p in page.json()['query']['pages']]\n",
    "print(id_list)"
   ]
  },
  {
   "cell_type": "markdown",
   "metadata": {},
   "source": [
    "### Q5. Convert the given list of datetimes from UTC to Europe/Madrid time"
   ]
  },
  {
   "cell_type": "code",
   "execution_count": 107,
   "metadata": {},
   "outputs": [
    {
     "name": "stdout",
     "output_type": "stream",
     "text": [
      "['2017-07-01T13:00:00Z', '2018-01-02T06:00:00Z', '2017-09-01T13:00:00Z']\n"
     ]
    }
   ],
   "source": [
    "import datetime\n",
    "import pytz\n",
    "\n",
    "times = ['2017-07-01T11:00:00Z', '2018-01-02T05:00:00Z',\n",
    "         '2017-09-01T11:00:00Z']\n",
    "\n",
    "### YOUR CODE HERE\n",
    "local_tz = pytz.timezone('Europe/Madrid')\n",
    "fmt = '%Y-%m-%dT%H:%M:%SZ'\n",
    "def date_to_local(date):\n",
    "    temp = datetime.datetime.strptime(date,fmt)\n",
    "    local_date = temp.replace(tzinfo=pytz.utc).astimezone(local_tz)\n",
    "    return str(local_date.date()) +'T'+ str(local_date.timetz())+'Z'\n",
    "\n",
    "result = [date_to_local(i) for i in times]\n",
    "print(result)"
   ]
  },
  {
   "cell_type": "markdown",
   "metadata": {},
   "source": [
    "### Q6. Replace yes/no with boolean True/False in the following list of tuples"
   ]
  },
  {
   "cell_type": "code",
   "execution_count": 108,
   "metadata": {},
   "outputs": [
    {
     "name": "stdout",
     "output_type": "stream",
     "text": [
      "[(1, True), (2, True), (3, False), (4, False), (5, True), (6, False)]\n"
     ]
    }
   ],
   "source": [
    "import string\n",
    "import re\n",
    "\n",
    "yesno_list = [(1, \"yes\"),\n",
    "              (2, \"Yes\"),\n",
    "              (3, \"No\"),\n",
    "              (4, \"no\"),\n",
    "              (5, \"yes,\"),\n",
    "              (6, \"no \")]\n",
    "\n",
    "### YOUR CODE HERE\n",
    "yesno_list = [(_, re.search('no',j,re.IGNORECASE) is None) for (_,j) in yesno_list ]\n",
    "print(yesno_list)"
   ]
  },
  {
   "cell_type": "markdown",
   "metadata": {},
   "source": [
    "## SQL\n",
    "\n",
    "Here we provide the connection details to the Postgres server and print the schema.\n",
    "\n",
    "Run the cell below and continue to the SQL problems.\n"
   ]
  },
  {
   "cell_type": "code",
   "execution_count": 109,
   "metadata": {},
   "outputs": [
    {
     "name": "stdout",
     "output_type": "stream",
     "text": [
      "Tables: \n",
      " orders\n",
      "  creation_time :: timestamp without time zone\n",
      "  order_id :: bigint\n",
      "  user_id :: bigint\n",
      " scheduled_slots\n",
      "  slot_time :: timestamp without time zone\n",
      "  courier_id :: integer\n"
     ]
    }
   ],
   "source": [
    "import psycopg2\n",
    "\n",
    "\n",
    "conn = psycopg2.connect(\n",
    "        dbname='dwh',\n",
    "        host='127.0.0.1',\n",
    "        port='5432',\n",
    "        user='admin',\n",
    "        password='admin',\n",
    "    )\n",
    "conn.autocommit = True\n",
    "cursor = conn.cursor()\n",
    "\n",
    "cursor.execute(\"\"\"SELECT table_name\n",
    "  FROM information_schema.tables\n",
    " WHERE table_schema='public'\n",
    "   AND table_type='BASE TABLE';\"\"\")\n",
    "tables = cursor.fetchall()\n",
    "print(\"Tables: \")\n",
    "for t in tables:\n",
    "    print(\" \"+t[0])\n",
    "    cursor.execute(\"\"\"select column_name, data_type\n",
    "from INFORMATION_SCHEMA.COLUMNS where table_name = '\"\"\" + t[0] + \"\"\"';\"\"\")\n",
    "    for c in cursor.fetchall():\n",
    "        print(\"  \" + c[0] + \" :: \" + c[1])\n",
    "        \n"
   ]
  },
  {
   "cell_type": "markdown",
   "metadata": {},
   "source": [
    "### Q1. Get the order_id of the most recent order for each user in the orders table - give the output with the user_id in ascending order\n",
    "\n"
   ]
  },
  {
   "cell_type": "code",
   "execution_count": 110,
   "metadata": {},
   "outputs": [
    {
     "name": "stdout",
     "output_type": "stream",
     "text": [
      "user_id, last_order_id\n",
      "289796, 4509163\n",
      "904841, 5434211\n",
      "925762, 4933672\n"
     ]
    }
   ],
   "source": [
    "cursor.execute(\"\"\"\n",
    "SELECT DISTINCT ON(user_id) user_id, order_id\n",
    "FROM orders\n",
    "ORDER BY  user_id,creation_time  DESC\n",
    "\"\"\")#we could write ORDER BY  user_id ASC, creation_time DESC;\n",
    "#but there is no need as ASC is the default\n",
    "\n",
    "\n",
    "print('user_id, last_order_id')\n",
    "print('\\n'.join(', '.join(map(str, x)) for x in cursor.fetchall()))"
   ]
  },
  {
   "cell_type": "markdown",
   "metadata": {},
   "source": [
    "### Q2. Calculate the average length of distinct sessions across all couriers from scheduled_slots\n",
    "\n",
    "A distinct session is a one or more consecutive slots, that is, if the courier works 08-09am, 09-10am, and 10-11am together, that counts as one distinct session with a length of 3 hours.\n",
    "\n",
    "Consecutive slots are slots done in one go, one after another, by the same courier - i.e. one hour on its own counts as one such slot, i.e. one distinct session of length 1 hour.\n",
    "\n",
    "Two slots are consecutive (i.e. part of the same session) if they have exactly an hour's difference between their start_time's (as slots are per hour) and they have the same courier_id.\n",
    "\n",
    "Note that we want the average length of the distinct sessions across all couriers, not the average of the average session length per courier.\n"
   ]
  },
  {
   "cell_type": "code",
   "execution_count": 111,
   "metadata": {},
   "outputs": [
    {
     "data": {
      "text/plain": [
       "[(3.14285714285714,)]"
      ]
     },
     "execution_count": 111,
     "metadata": {},
     "output_type": "execute_result"
    }
   ],
   "source": [
    "cursor.execute(\"\"\"\n",
    "WITH temp AS (\n",
    "\tSELECT courier_id,\n",
    "\t\tslot_time - INTERVAL '1 hour' * ROW_NUMBER() OVER (PARTITION BY courier_id ORDER BY slot_time) AS sessions\n",
    "\tFROM scheduled_slots\n",
    "\tORDER BY courier_id,slot_time)\n",
    "SELECT CAST(COUNT(*) AS float) / COUNT(DISTINCT concat(courier_id, sessions))  \n",
    "FROM temp\"\"\")#time spent on sessions/number of sessions\n",
    "\n",
    "cursor.fetchall()"
   ]
  },
  {
   "cell_type": "markdown",
   "metadata": {},
   "source": [
    "## Logic\n",
    "\n",
    "### Q1. Courier arrivals\n",
    "\n",
    "Courier A arrives between 1pm and 3pm with uniform probability, Courier B arrives between 2pm and 4pm with uniform probability.\n",
    "\n",
    "What is the probability that courier A arrives before courier B?"
   ]
  },
  {
   "cell_type": "code",
   "execution_count": 112,
   "metadata": {},
   "outputs": [
    {
     "name": "stdout",
     "output_type": "stream",
     "text": [
      "0.875\n"
     ]
    }
   ],
   "source": [
    "import numpy as np\n",
    "\n",
    "\n",
    "np.random.seed(123)\n",
    "\n",
    "### YOUR CODE HERE\n",
    "#I like imagining these problems as a probability tree and expanding each subcase\n",
    "#Case 1: A arrives before 2PM,0.5 times since we have uniform distribution (A is faster)\n",
    "abefore2 = 0.5\n",
    "#Case 2:A arrives after 2PM,0.5 times since we have uniform distribution\n",
    "#Case 2.1:B arrives after 3PM, 0.5 times since we have uniform distribution (A is faster)\n",
    "bafter3= 0.5*0.5\n",
    "#Case 2.2:B arrives before 3PM, 0.5 times since we have uniform distribution \n",
    "#then since we have two independent variables with identical distribution\n",
    "#the probability that one is higher than the other is chance, that is 1/2 ; 0.5 once again\n",
    "between2and3= 0.5*0.5*0.5\n",
    "A_is_faster = abefore2 + bafter3 + between2and3\n",
    "print(A_is_faster)\n"
   ]
  },
  {
   "cell_type": "markdown",
   "metadata": {},
   "source": [
    "### Q2. Two-headed coin in a bag\n",
    "\n",
    "You have a bag of 1000 coins, in which one coin is two-headed. \n",
    "\n",
    "You take out one coin from the bag and flip it N times - obtaining heads every time.\n",
    "\n",
    "Calculate the probability that you have taken the two-headed coin, for each $N$ in $0<=N<=20$ (i.e. at each flip what is the probability that you are holding the two-headed coin). \n",
    "\n",
    "Note that $N=0$ corresponds to no observations, i.e. your prior belief.\n",
    "\n",
    "Give the probabilities to 3 decimal places.\n",
    "\n",
    "\n"
   ]
  },
  {
   "cell_type": "code",
   "execution_count": 113,
   "metadata": {},
   "outputs": [
    {
     "name": "stdout",
     "output_type": "stream",
     "text": [
      "0:0.001\n",
      "1:0.002\n",
      "2:0.004\n",
      "3:0.008\n",
      "4:0.016\n",
      "5:0.031\n",
      "6:0.06\n",
      "7:0.114\n",
      "8:0.204\n",
      "9:0.339\n",
      "10:0.506\n",
      "11:0.672\n",
      "12:0.804\n",
      "13:0.891\n",
      "14:0.943\n",
      "15:0.97\n",
      "16:0.985\n",
      "17:0.992\n",
      "18:0.996\n",
      "19:0.998\n",
      "20:0.999\n"
     ]
    }
   ],
   "source": [
    "### YOUR CODE HERE\n",
    "for n in range(21):\n",
    "    #a simple application of Bayes theorem\n",
    "    probability = 0.001/( 0.001+ (0.999* 0.5**n))\n",
    "    print(str(n)+ ':' + str(round(probability,3)))\n",
    "    "
   ]
  },
  {
   "cell_type": "markdown",
   "metadata": {},
   "source": [
    "### Assessment Completion\n",
    "\n",
    "Thank you for completing the assessment.\n",
    "\n",
    "Please download your completed notebook using the menu bar:\n",
    "\n",
    " ```File > Download as > Notebook```\n",
    " \n",
    " And return the .ipynb file to us."
   ]
  }
 ],
 "metadata": {
  "kernelspec": {
   "display_name": "Python 3",
   "language": "python",
   "name": "python3"
  },
  "language_info": {
   "codemirror_mode": {
    "name": "ipython",
    "version": 3
   },
   "file_extension": ".py",
   "mimetype": "text/x-python",
   "name": "python",
   "nbconvert_exporter": "python",
   "pygments_lexer": "ipython3",
   "version": "3.6.6"
  }
 },
 "nbformat": 4,
 "nbformat_minor": 2
}
